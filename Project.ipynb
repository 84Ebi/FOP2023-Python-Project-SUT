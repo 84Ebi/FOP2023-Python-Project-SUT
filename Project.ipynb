{
 "cells": [
  {
   "cell_type": "markdown",
   "id": "ee5b56af",
   "metadata": {},
   "source": [
    "<html lang=\"fa\">\n",
    "\n",
    "<head>\n",
    "  <meta charset=\"UTF-8\">\n",
    "  <meta http-equiv=\"X-UA-Compatible\" content=\"IE=edge\">\n",
    "  <meta name=\"viewport\" content=\"width=device-width, initial-scale=1.0\">\n",
    "</head>\n",
    "\n",
    "<body style=\"display: flex;flex-direction: column; margin: 0;\">\n",
    "    \n",
    "  <div style=\"\">\n",
    "    <img src=\"./public/Logo.png\" style=\"width: 20%;margin-right:0;\">\n",
    "  </div>\n",
    "\n",
    "  <div dir=rtl style=\"width:fit-content; height: fit-content; margin-top: 2rem;margin-right:0%\">\n",
    "    <b style=\"font-family: IRANSansX;font-size: x-large;\">\n",
    "      پروژه درس مبانی برنامه‌سازی پایتون\n",
    "    </b>\n",
    "  </div>\n",
    " <div dir=rtl style=\" width: fit-content; height: fit-content; margin-top: 2rem;margin-left: 41%\">\n",
    "    <span style=\"font-family: IRANSansX;\">نیم‌سال اول سال تحصیلی 02-03</span>\n",
    "  </div>\n",
    "  <div dir=rtl style=\" width: fit-content; height: fit-content; margin-top: 2rem;margin-left: 41%\">\n",
    "    <span style=\"font-family: IRANSansX;\">استاد:</span>\n",
    "    <b style=\" font-family: IRANSansX\">\n",
    "      دکتر آرمان ملک‌زاده\n",
    "    </b>\n",
    "  </div>\n",
    "  <div dir=rtl style=\" width: fit-content; height: fit-content; margin-top: 0.25rem;margin-left: 34%\">\n",
    "    <span style=\"font-family: IRANSansX;\">سردستیاران آموزشی:</span>\n",
    "    <b style=\" font-family: IRANSansX\">\n",
    "      ایمان محمدی - علی ثالثی </b>\n",
    "  </div>\n",
    "  <div dir=rtl style=\"width: fit-content; height: fit-content; margin-top: 0.25rem;margin-left: 41%\">\n",
    "    <span style=\"font-family: IRANSansX;\">مسئول پروژه:</span>\n",
    "    <b style=\" font-family: IRANSansX\">\n",
    "      معین آعلی\n",
    "    </b>\n",
    "  </div>\n",
    "</body>\n",
    "<hr><hr>\n",
    "</html>"
   ]
  },
  {
   "cell_type": "markdown",
   "id": "09b28b12",
   "metadata": {},
   "source": [
    "<div dir = \"rtl\" style=\"font-face:IranSansX;direction:rtl;line-height:250%;font-size:small;\">\n",
    "\t<font face=\"IranSansX\" size=3>\n",
    "        <font color=#cf1f00 size=5>توضیحات</font>\n",
    "        <hr/>\n",
    "متن توضیحات راجع به پروژه و اهداف و... \n",
    "متن توضیحات راجع به پروژه و اهداف و... \n",
    "متن توضیحات راجع به پروژه و اهداف و... \n",
    "متن توضیحات راجع به پروژه و اهداف و... \n",
    "متن توضیحات راجع به پروژه و اهداف و... \n",
    "متن توضیحات راجع به پروژه و اهداف و... \n",
    "متن توضیحات راجع به پروژه و اهداف و... \n",
    "متن توضیحات راجع به پروژه و اهداف و... \n",
    "متن توضیحات راجع به پروژه و اهداف و... \n",
    "متن توضیحات راجع به پروژه و اهداف و... \n",
    "    </font>\n",
    "</div>"
   ]
  },
  {
   "cell_type": "markdown",
   "id": "cbf28d60",
   "metadata": {},
   "source": [
    "<div dir = \"rtl\" style=\"font-face:IranSansX;direction:rtl;line-height:250%;font-size:small;\">\n",
    "\t<font face=\"IranSansX\" size=3>\n",
    "        <font color=#cf1f00 size=5>نصب ژوپیتر نوت‌بوک</font>\n",
    "        <hr/>\n",
    "        متن توضیحات\n",
    "        متن توضیحات\n",
    "        متن توضیحات\n",
    "        متن توضیحات\n",
    "        متن توضیحات\n",
    "        متن توضیحات\n",
    "        متن توضیحات\n",
    "        متن توضیحات\n",
    "        متن توضیحات\n",
    "        متن توضیحات\n",
    "        متن توضیحات\n",
    "        متن توضیحات\n",
    "        متن توضیحات\n",
    "    </font>\n",
    "</div>"
   ]
  },
  {
   "cell_type": "markdown",
   "id": "f56ec332",
   "metadata": {},
   "source": [
    "<div dir = \"rtl\" style=\"font-face:IranSansX;direction:rtl;line-height:250%;font-size:small;\">\n",
    "\t<font face=\"IranSansX\" size=3>\n",
    "        <font color=#cf1f00 size=5>نصب کتابخانه‌های مورد نیاز</font>\n",
    "        <hr/>\n",
    "        متن توضیحات\n",
    "        متن توضیحات\n",
    "        متن توضیحات\n",
    "        متن توضیحات\n",
    "        متن توضیحات\n",
    "        متن توضیحات\n",
    "        متن توضیحات\n",
    "        متن توضیحات\n",
    "        متن توضیحات\n",
    "        متن توضیحات\n",
    "        متن توضیحات\n",
    "        متن توضیحات\n",
    "        متن توضیحات\n",
    "    </font>\n",
    "</div>"
   ]
  },
  {
   "cell_type": "markdown",
   "id": "463ca9df",
   "metadata": {},
   "source": [
    "<div dir = \"rtl\" style=\"font-face:IranSansX;direction:rtl;line-height:250%;font-size:small;\">\n",
    "\t<font face=\"IranSansX\" size=3>\n",
    "        <b>\n",
    "        <font color=#0007cf size=5>فاز اول پروژه: </font>\n",
    "        <font color=#0007cf size=5>\n",
    "        Data Analysis\n",
    "        </font>\n",
    "        </b>\n",
    "        <hr/>\n",
    "        <hr/>\n",
    "    </font>\n",
    "</div>"
   ]
  },
  {
   "cell_type": "markdown",
   "id": "1c6d6952",
   "metadata": {},
   "source": [
    "<div dir = \"rtl\" style=\"font-face:IranSansX;direction:rtl;line-height:250%;font-size:small;\">\n",
    "\t<font face=\"IranSansX\" size=3>\n",
    "کتابخانه‌هایی که در مرحله قبل نصب کردید را داخل نوت‌بوک import کنید و برای هر کدام یک نام مخفف مانند sns, plt, np, pd و... در نظر بگیرید.    </font>\n",
    "</div>"
   ]
  },
  {
   "cell_type": "code",
   "execution_count": 1,
   "id": "6b36bab2",
   "metadata": {},
   "outputs": [],
   "source": [
    "#type your code here..."
   ]
  },
  {
   "cell_type": "markdown",
   "id": "5d794b21",
   "metadata": {},
   "source": [
    "<div dir = \"rtl\" style=\"font-face:IranSansX;direction:rtl;line-height:250%;font-size:small;\">\n",
    "\t<font face=\"IranSansX\" size=3>\n",
    "دیتاست موجود در پروژه که یک فایل csv است را به صورت یک دیتافریم در متغیری به نام df بخوانید.\n",
    "    </font>\n",
    "</div>"
   ]
  },
  {
   "cell_type": "code",
   "execution_count": null,
   "id": "c165f46a",
   "metadata": {},
   "outputs": [],
   "source": [
    "#type your code here..."
   ]
  },
  {
   "cell_type": "markdown",
   "id": "5c5e447a",
   "metadata": {},
   "source": [
    "<div dir = \"rtl\" style=\"font-face:IranSansX;direction:rtl;line-height:250%;font-size:small;\">\n",
    "\t<font face=\"IranSansX\" size=3>\n",
    "        ابعاد (تعداد سطرها و تعداد ستون‌ها) دیتافریم را به صورت یک tuple نمایش دهید.\n",
    "    </font>\n",
    "</div>"
   ]
  },
  {
   "cell_type": "code",
   "execution_count": null,
   "id": "4567dd0a",
   "metadata": {},
   "outputs": [],
   "source": [
    "#type your code here..."
   ]
  },
  {
   "cell_type": "markdown",
   "id": "696f9d66",
   "metadata": {},
   "source": [
    "<div dir = \"rtl\" style=\"font-face:IranSansX;direction:rtl;line-height:250%;font-size:small;\">\n",
    "\t<font face=\"IranSansX\" size=3>\n",
    "        دیتافریم را چاپ کنید.\n",
    "    </font>\n",
    "</div>"
   ]
  },
  {
   "cell_type": "code",
   "execution_count": null,
   "id": "2c712b9f",
   "metadata": {},
   "outputs": [],
   "source": [
    "#type your code here..."
   ]
  },
  {
   "cell_type": "markdown",
   "id": "270fec31",
   "metadata": {},
   "source": [
    "<div dir = \"rtl\" style=\"font-face:IranSansX;direction:rtl;line-height:250%;font-size:small;\">\n",
    "\t<font face=\"IranSansX\" size=3>\n",
    "        ده سطر اول دیتافریم را چاپ کنید.\n",
    "    </font>\n",
    "</div>"
   ]
  },
  {
   "cell_type": "code",
   "execution_count": null,
   "id": "f638b719",
   "metadata": {},
   "outputs": [],
   "source": [
    "#type your code here..."
   ]
  },
  {
   "cell_type": "markdown",
   "id": "ba8014bd",
   "metadata": {},
   "source": [
    "<div dir = \"rtl\" style=\"font-face:IranSansX;direction:rtl;line-height:250%;font-size:small;\">\n",
    "\t<font face=\"IranSansX\" size=3>\n",
    "ده سطر آخر دیتافریم را چاپ کنید.\n",
    "    </font>\n",
    "</div>"
   ]
  },
  {
   "cell_type": "code",
   "execution_count": null,
   "id": "48bcf803",
   "metadata": {},
   "outputs": [],
   "source": [
    "#type your code here..."
   ]
  },
  {
   "cell_type": "markdown",
   "id": "6cb41ddb",
   "metadata": {},
   "source": [
    "<div dir = \"rtl\" style=\"font-face:IranSansX;direction:rtl;line-height:250%;font-size:small;\">\n",
    "\t<font face=\"IranSansX\" size=3>\n",
    "        ده سطر از دیتافریم را به صورت تصادفی (Random) انتخاب کرده و آن‌ها را در قالب یک دیتافریم با نام sample_df ذخیره کرده و آن را خروجی دهید.\n",
    "    </font>\n",
    "</div>"
   ]
  },
  {
   "cell_type": "code",
   "execution_count": 2,
   "id": "805a054d",
   "metadata": {},
   "outputs": [],
   "source": [
    "#type your code here..."
   ]
  },
  {
   "cell_type": "markdown",
   "id": "59091b02",
   "metadata": {},
   "source": [
    "<div dir = \"rtl\" style=\"font-face:IranSansX;direction:rtl;line-height:250%;font-size:small;\">\n",
    "\t<font face=\"IranSansX\" size=3>\n",
    "با یک دستور، اطلاعاتی کلی همانند نام ستون‌ها، تعداد indexها، تعداد سلول‌های non-null و... راجع به دیتافریم را بدست اورید.    </font>\n",
    "</div>"
   ]
  },
  {
   "cell_type": "code",
   "execution_count": 2,
   "id": "238509ca",
   "metadata": {},
   "outputs": [],
   "source": [
    "#type your code here..."
   ]
  },
  {
   "cell_type": "markdown",
   "id": "fb9fb9b3",
   "metadata": {},
   "source": [
    "<div dir = \"rtl\" style=\"font-face:IranSansX;direction:rtl;line-height:250%;font-size:small;\">\n",
    "\t<font face=\"IranSansX\" size=3>\n",
    "        با یک دستور، اطلاعاتی کلی همانند مقدار ماکزیمم، مینیمم، میانگین، چارک‌ها و... راجع به ستون‌های دیتافریم بدست آورید.\n",
    "    </font>\n",
    "</div>"
   ]
  },
  {
   "cell_type": "code",
   "execution_count": 2,
   "id": "8aebb4c9",
   "metadata": {},
   "outputs": [],
   "source": [
    "#type your code here..."
   ]
  },
  {
   "cell_type": "markdown",
   "id": "4a847832",
   "metadata": {},
   "source": [
    "<div dir = \"rtl\" style=\"font-face:IranSansX;direction:rtl;line-height:250%;font-size:small;\">\n",
    "\t<font face=\"IranSansX\" size=3>\n",
    "        تعداد سلول‌های خالی در هر ستون از دیتافریم را خروجی دهید.\n",
    "    </font>\n",
    "</div>"
   ]
  },
  {
   "cell_type": "code",
   "execution_count": 2,
   "id": "2240a05b",
   "metadata": {},
   "outputs": [],
   "source": [
    "#type your code here..."
   ]
  },
  {
   "cell_type": "markdown",
   "id": "a9bbc12d",
   "metadata": {},
   "source": [
    "<div dir = \"rtl\" style=\"font-face:IranSansX;direction:rtl;line-height:250%;font-size:small;\">\n",
    "\t<font face=\"IranSansX\" size=3>\n",
    "آن سلول‌هایی که خالی هستند را از دیتافریم حذف کنید و دیتافریم جدید را جایگزین قبلی کنید.    </font>\n",
    "</div>"
   ]
  },
  {
   "cell_type": "code",
   "execution_count": 2,
   "id": "ba8dd0b5",
   "metadata": {},
   "outputs": [],
   "source": [
    "#type your code here..."
   ]
  },
  {
   "cell_type": "markdown",
   "id": "20a31df9",
   "metadata": {},
   "source": [
    "<div dir = \"rtl\" style=\"font-face:IranSansX;direction:rtl;line-height:250%;font-size:small;\">\n",
    "\t<font face=\"IranSansX\" size=3>\n",
    "        با یک دستور، جنس متغیر ذخیره‌شده در هر ستون از دیتافریم را نشان دهید.\n",
    "    </font>\n",
    "</div>"
   ]
  },
  {
   "cell_type": "code",
   "execution_count": 3,
   "id": "fd51e177",
   "metadata": {},
   "outputs": [],
   "source": [
    "#type your code here..."
   ]
  },
  {
   "cell_type": "markdown",
   "id": "3d3b23ca",
   "metadata": {},
   "source": [
    "<div dir = \"rtl\" style=\"font-face:IranSansX;direction:rtl;line-height:250%;font-size:small;\">\n",
    "\t<font face=\"IranSansX\" size=3>\n",
    "جنس مقادیر ستون‌های  Area و Price  و Price(USD) را از رشته به مقدار عددی تغییر دهید و دیتافریم جدید را جایگزین قبلی کنید.    </font>\n",
    "</div>"
   ]
  },
  {
   "cell_type": "code",
   "execution_count": 2,
   "id": "909132f8",
   "metadata": {},
   "outputs": [],
   "source": [
    "#type your code here..."
   ]
  },
  {
   "cell_type": "markdown",
   "id": "df8558ea",
   "metadata": {},
   "source": [
    "<div dir = \"rtl\" style=\"font-face:IranSansX;direction:rtl;line-height:250%;font-size:small;\">\n",
    "\t<font face=\"IranSansX\" size=3>\n",
    "        ستون‌هایی که جنس متغیر آن‌ها از نوع Boolean است را به مقادیر عددی تغییر دهید و دیتافریم جدید را جایگزین قبلی کنید. (به ازای True مقدار 1 و به ازای False مقدار 0 جایگزین شود.)\n",
    "    </font>\n",
    "</div>"
   ]
  },
  {
   "cell_type": "code",
   "execution_count": 2,
   "id": "ae71c821",
   "metadata": {},
   "outputs": [],
   "source": [
    "#type your code here..."
   ]
  },
  {
   "cell_type": "markdown",
   "id": "ebd42e2a",
   "metadata": {},
   "source": [
    "<div dir = \"rtl\" style=\"font-face:IranSansX;direction:rtl;line-height:250%;font-size:small;\">\n",
    "\t<font face=\"IranSansX\" size=3>\n",
    "        دیتافریم جدیدی تشکیل دهید به طوری که نام ستون‌های دیتافریم اصلی در ابتدای سطرها قرار گیرد و اطلاعاتی همانند min , max , mean و... که در قسمت‌های قبلی بدست آوردیم را به عنوان ستون‌های دیتافریم جدید قرار دهید. این دیتافریم جدید را در متغیری با نام df_T ذخیره کنید و چاپ کنید.\n",
    "    </font>\n",
    "</div>"
   ]
  },
  {
   "cell_type": "code",
   "execution_count": 2,
   "id": "dd315c84",
   "metadata": {},
   "outputs": [],
   "source": [
    "#type your code here..."
   ]
  },
  {
   "cell_type": "markdown",
   "id": "5be44d77",
   "metadata": {},
   "source": [
    "<div dir = \"rtl\" style=\"font-face:IranSansX;direction:rtl;line-height:250%;font-size:small;\">\n",
    "\t<font face=\"IranSansX\" size=3>\n",
    "        نام ستون‌های دیتافریم را در یک لیست با نام column_names ذخیره کنید و سپس لیست را چاپ کنید.\n",
    "    </font>\n",
    "</div>"
   ]
  },
  {
   "cell_type": "code",
   "execution_count": 2,
   "id": "c67af725",
   "metadata": {},
   "outputs": [],
   "source": [
    "#type your code here..."
   ]
  },
  {
   "cell_type": "markdown",
   "id": "bed89c36",
   "metadata": {},
   "source": [
    "<div dir = \"rtl\" style=\"font-face:IranSansX;direction:rtl;line-height:250%;font-size:small;\">\n",
    "\t<font face=\"IranSansX\" size=3>\n",
    "        یک دیکشنری از نام ستون‌ها تشکیل داده و نام هر ستون را به عنوان key و نام هر ستون به صورت Pascal case را به عنوان value آن در نظر بگیرید.(این \n",
    "        دیکشنری در مراحل بعدی مورد استفاده قرار می‌گیرد.)\n",
    "        <br>\n",
    "        </font>\n",
    "        <font face=\"IranSansX\" size=2>\n",
    "        <a href=\"https://stackoverflow.com/questions/17326185/what-are-the-different-kinds-of-cases\">می‌توانید از این لینک برای آشنایی با Case Styleها استفاده کنید.</a>\n",
    "    </font>\n",
    "</div>"
   ]
  },
  {
   "cell_type": "code",
   "execution_count": 2,
   "id": "d7bb5c7a",
   "metadata": {},
   "outputs": [],
   "source": [
    "#type your code here..."
   ]
  },
  {
   "cell_type": "markdown",
   "id": "e5d8e621",
   "metadata": {},
   "source": [
    "<div dir = \"rtl\" style=\"font-face:IranSansX;direction:rtl;line-height:250%;font-size:small;\">\n",
    "\t<font face=\"IranSansX\" size=3>\n",
    "        نام ستون‌هایی که طول آن‌ها از 8 کارکتر کمتر است را خروجی دهید.\n",
    "    </font>\n",
    "</div>"
   ]
  },
  {
   "cell_type": "code",
   "execution_count": 2,
   "id": "6e46967f",
   "metadata": {},
   "outputs": [],
   "source": [
    "#type your code here..."
   ]
  },
  {
   "cell_type": "markdown",
   "id": "c27152f8",
   "metadata": {},
   "source": [
    "<div dir = \"rtl\" style=\"font-face:IranSansX;direction:rtl;line-height:250%;font-size:small;\">\n",
    "\t<font face=\"IranSansX\" size=3>\n",
    "نام تمامی ستون‌ها را به صورت یک رشته‌ که نام هر ستون با کارکتر '-' از دیگری جدا شده، خروجی دهید.    </font>\n",
    "</div>"
   ]
  },
  {
   "cell_type": "code",
   "execution_count": 2,
   "id": "3d50b3be",
   "metadata": {},
   "outputs": [],
   "source": [
    "#type your code here..."
   ]
  },
  {
   "cell_type": "markdown",
   "id": "64cc1a64",
   "metadata": {},
   "source": [
    "<div dir = \"rtl\" style=\"font-face:IranSansX;direction:rtl;line-height:250%;font-size:small;\">\n",
    "\t<font face=\"IranSansX\" size=3>\n",
    "با استفاده از دیکشنری ایجاد شده در مراحل قبل، نام ستون‌های دیتافریم را به صورت Pascal case تغییر دهید و در df ذخیره کنید.\n",
    "    </font>\n",
    "</div>"
   ]
  },
  {
   "cell_type": "code",
   "execution_count": 2,
   "id": "8eb6aa74",
   "metadata": {},
   "outputs": [],
   "source": [
    "#type your code here..."
   ]
  },
  {
   "cell_type": "markdown",
   "id": "c756b3af",
   "metadata": {},
   "source": [
    "<div dir = \"rtl\" style=\"font-face:IranSansX;direction:rtl;line-height:250%;font-size:small;\">\n",
    "\t<font face=\"IranSansX\" size=3>\n",
    "        ستون‌های مربوط به قیمت را حذف کرده و دیتافریم حاصل را در متغیری به نام df_without_price ذخیره کنید.\n",
    "    </font>\n",
    "</div>"
   ]
  },
  {
   "cell_type": "code",
   "execution_count": 2,
   "id": "a2e62563",
   "metadata": {},
   "outputs": [],
   "source": [
    "#type your code here..."
   ]
  },
  {
   "cell_type": "markdown",
   "id": "7e1c8f89",
   "metadata": {},
   "source": [
    "<div dir = \"rtl\" style=\"font-face:IranSansX;direction:rtl;line-height:250%;font-size:small;\">\n",
    "\t<font face=\"IranSansX\" size=3>\n",
    "        دیتافریم df_without_price را چاپ کنید.\n",
    "    </font>\n",
    "</div>"
   ]
  },
  {
   "cell_type": "code",
   "execution_count": 2,
   "id": "78f3bdcf",
   "metadata": {},
   "outputs": [],
   "source": [
    "#type your code here..."
   ]
  },
  {
   "cell_type": "markdown",
   "id": "584bf7f0",
   "metadata": {},
   "source": [
    "<div dir = \"rtl\" style=\"font-face:IranSansX;direction:rtl;line-height:250%;font-size:small;\">\n",
    "\t<font face=\"IranSansX\" size=3>\n",
    "        ستون‌های Area و Room و Price را در قالب یک دیتافریم جدید خروجی دهید.\n",
    "    </font>\n",
    "</div>"
   ]
  },
  {
   "cell_type": "code",
   "execution_count": 2,
   "id": "6afcc4c7",
   "metadata": {},
   "outputs": [],
   "source": [
    "#type your code here..."
   ]
  },
  {
   "cell_type": "markdown",
   "id": "6aa87b14",
   "metadata": {},
   "source": [
    "<div dir = \"rtl\" style=\"font-face:IranSansX;direction:rtl;line-height:250%;font-size:small;\">\n",
    "\t<font face=\"IranSansX\" size=3>\n",
    "سطرهایی از دیتافریم df که index زوج دارند را در قالب یک دیتافریم خروجی دهید.\n",
    "    </font>\n",
    "</div>"
   ]
  },
  {
   "cell_type": "code",
   "execution_count": 2,
   "id": "2f71ccd0",
   "metadata": {},
   "outputs": [],
   "source": [
    "#type your code here..."
   ]
  },
  {
   "cell_type": "markdown",
   "id": "54d148fc",
   "metadata": {},
   "source": [
    "<div dir = \"rtl\" style=\"font-face:IranSansX;direction:rtl;line-height:250%;font-size:small;\">\n",
    "\t<font face=\"IranSansX\" size=3>\n",
    "        تعداد مقادیر متمایز موجود در هر ستون را در قالب یک دیکشنری با نام دلخواه ذخیره کنید و خروجی دهید.(در دیکشنری key برابر است با نام ستون و value تعداد مقادیر متمایز موجود در آن است.)\n",
    "    </font>\n",
    "</div>"
   ]
  },
  {
   "cell_type": "code",
   "execution_count": 2,
   "id": "189e1ec3",
   "metadata": {},
   "outputs": [],
   "source": [
    "#type your code here..."
   ]
  },
  {
   "cell_type": "markdown",
   "id": "dbf66623",
   "metadata": {},
   "source": [
    "<div dir = \"rtl\" style=\"font-face:IranSansX;direction:rtl;line-height:250%;font-size:small;\">\n",
    "\t<font face=\"IranSansX\" size=3>\n",
    "        تمامی مقادیر متمایز موجود در ستون Address را در قالب یک لیست خروجی دهید.\n",
    "    </font>\n",
    "</div>"
   ]
  },
  {
   "cell_type": "code",
   "execution_count": 2,
   "id": "73e15962",
   "metadata": {},
   "outputs": [],
   "source": [
    "#type your code here..."
   ]
  },
  {
   "cell_type": "markdown",
   "id": "2904de0d",
   "metadata": {},
   "source": [
    "<div dir = \"rtl\" style=\"font-face:IranSansX;direction:rtl;line-height:250%;font-size:small;\">\n",
    "\t<font face=\"IranSansX\" size=3>\n",
    "یک دیکشنری با نام دلخواه ایجاد کنید که key آن برابر با نام ستون‌های دیتافریم و value آن برابر است با لیستی از مقدار متمایز موجود در آن ستون از دیتافریم.در آخر دیکشنری را چاپ کنید.\n",
    "    </font>\n",
    "</div>"
   ]
  },
  {
   "cell_type": "code",
   "execution_count": 2,
   "id": "9236c1a3",
   "metadata": {},
   "outputs": [],
   "source": [
    "#type your code here..."
   ]
  },
  {
   "cell_type": "markdown",
   "id": "d4b70ffd",
   "metadata": {},
   "source": [
    "<div dir = \"rtl\" style=\"font-face:IranSansX;direction:rtl;line-height:250%;font-size:small;\">\n",
    "\t<font face=\"IranSansX\" size=3>\n",
    "        تعداد دفعات تکرار هر مقدار متمایز در ستون Address را مشخص کنید و نتایج را در یک دیکشنری ذخیره کرده و خروجی دهید.(در دیکشنری key برابر با نام مقادیر متمایز ستون Address و value برابر با تعداد دفعات تکرار آن است.)\n",
    "    </font>\n",
    "</div>"
   ]
  },
  {
   "cell_type": "code",
   "execution_count": 2,
   "id": "5afc086c",
   "metadata": {},
   "outputs": [],
   "source": [
    "#type your code here..."
   ]
  },
  {
   "cell_type": "markdown",
   "id": "ab903849",
   "metadata": {},
   "source": [
    "<div dir = \"rtl\" style=\"font-face:IranSansX;direction:rtl;line-height:250%;font-size:small;\">\n",
    "\t<font face=\"IranSansX\" size=3>\n",
    "        ماکزیمم، مینیمم و طول بازه‌ی تغییرات مقادیر ستون‌هایی که متغیر آن‌ها عددی است را چاپ کنید.\n",
    "    </font>\n",
    "</div>"
   ]
  },
  {
   "cell_type": "code",
   "execution_count": 2,
   "id": "f5863ece",
   "metadata": {},
   "outputs": [],
   "source": [
    "#type your code here..."
   ]
  },
  {
   "cell_type": "markdown",
   "id": "b9dd8559",
   "metadata": {},
   "source": [
    "<div dir = \"rtl\" style=\"font-face:IranSansX;direction:rtl;line-height:250%;font-size:small;\">\n",
    "\t<font face=\"IranSansX\" size=3>\n",
    "        سطرهایی که مقدار Area آن‌ها از چارک اول مقادیر ستون Area کمتر است را در یک دیتافریم جدید با نام دلخواه ذخیره کرده و خروجی دهید.\n",
    "    </font>\n",
    "</div>"
   ]
  },
  {
   "cell_type": "code",
   "execution_count": 2,
   "id": "ccad3f7b",
   "metadata": {},
   "outputs": [],
   "source": [
    "#type your code here..."
   ]
  },
  {
   "cell_type": "markdown",
   "id": "7dd27394",
   "metadata": {},
   "source": [
    "<div dir = \"rtl\" style=\"font-face:IranSansX;direction:rtl;line-height:250%;font-size:small;\">\n",
    "\t<font face=\"IranSansX\" size=3>\n",
    "        همانند قسمت قبل، آن سطرهایی که Area آن‌ها از چارک اول کمتر است را شناسایی کرده و فقط مقادیر ستون‌های Area، Room و Price خروجی دهید.\n",
    "    </font>\n",
    "</div>"
   ]
  },
  {
   "cell_type": "code",
   "execution_count": 2,
   "id": "6402aac0",
   "metadata": {},
   "outputs": [],
   "source": [
    "#type your code here..."
   ]
  },
  {
   "cell_type": "markdown",
   "id": "9730c775",
   "metadata": {},
   "source": [
    "<div dir = \"rtl\" style=\"font-face:IranSansX;direction:rtl;line-height:250%;font-size:small;\">\n",
    "\t<font face=\"IranSansX\" size=3>\n",
    "        دیتافریم اولیه را برحسب ستون قیمت sort کنید و آن را در متغیری به نام df_sorted_by_price ذخیره کنید و در آخر خروجی دهید.\n",
    "    </font>\n",
    "</div>"
   ]
  },
  {
   "cell_type": "code",
   "execution_count": 2,
   "id": "67099aa7",
   "metadata": {},
   "outputs": [],
   "source": [
    "#type your code here..."
   ]
  },
  {
   "cell_type": "markdown",
   "id": "10e9c793",
   "metadata": {},
   "source": [
    "<div dir = \"rtl\" style=\"font-face:IranSansX;direction:rtl;line-height:250%;font-size:small;\">\n",
    "\t<font face=\"IranSansX\" size=3>\n",
    "دیتافریم df_sorted_by_price را به صورت معکوس خروجی دهید.(از آخر به اول)    </font>\n",
    "</div>"
   ]
  },
  {
   "cell_type": "code",
   "execution_count": 2,
   "id": "75b178a4",
   "metadata": {},
   "outputs": [],
   "source": [
    "#type your code here..."
   ]
  },
  {
   "cell_type": "markdown",
   "id": "1921caf3",
   "metadata": {},
   "source": [
    "<div dir = \"rtl\" style=\"font-face:IranSansX;direction:rtl;line-height:250%;font-size:small;\">\n",
    "\t<font face=\"IranSansX\" size=3>\n",
    "        سطرهایی که مقدار ستون Elevator برای آن‌ها True است را برحسب قیمت sort کنید و خروجی دهید.\n",
    "    </font>\n",
    "</div>"
   ]
  },
  {
   "cell_type": "code",
   "execution_count": 2,
   "id": "be921de8",
   "metadata": {},
   "outputs": [],
   "source": [
    "#type your code here..."
   ]
  },
  {
   "cell_type": "markdown",
   "id": "550bf7c1",
   "metadata": {},
   "source": [
    "<div dir = \"rtl\" style=\"font-face:IranSansX;direction:rtl;line-height:250%;font-size:small;\">\n",
    "\t<font face=\"IranSansX\" size=3>\n",
    "        دیتافریم را برحسب Address گروه‌بندی کنید، سپس جمع Area خانه‌های هر گروه را محاسبه و خروجی دهید.\n",
    "    </font>\n",
    "</div>"
   ]
  },
  {
   "cell_type": "code",
   "execution_count": 2,
   "id": "7c0c33a2",
   "metadata": {},
   "outputs": [],
   "source": [
    "#type your code here..."
   ]
  },
  {
   "cell_type": "markdown",
   "id": "365d8f0f",
   "metadata": {},
   "source": [
    "<div dir = \"rtl\" style=\"font-face:IranSansX;direction:rtl;line-height:250%;font-size:small;\">\n",
    "\t<font face=\"IranSansX\" size=3>\n",
    "        دیتافریم را برحسب Address گروه‌بندی کنید، سپس میانگین Area خانه‌های هر گروه را با استفاده از Aggregate کردن گروه‌ها با تابع mean بیابید، سپس مقادیر بدست آمده را در یک دیتافریم جدید ذخیره کرده و خروجی دهید.\n",
    "    </font>\n",
    "</div>"
   ]
  },
  {
   "cell_type": "code",
   "execution_count": 2,
   "id": "9195204a",
   "metadata": {},
   "outputs": [],
   "source": [
    "#type your code here..."
   ]
  },
  {
   "cell_type": "markdown",
   "id": "9e90a1ef",
   "metadata": {},
   "source": [
    "<div dir = \"rtl\" style=\"font-face:IranSansX;direction:rtl;line-height:250%;font-size:small;\">\n",
    "\t<font face=\"IranSansX\" size=3>\n",
    "        یک crosstab برحسب Room و Parking رسم کنید.\n",
    "    </font>\n",
    "</div>"
   ]
  },
  {
   "cell_type": "code",
   "execution_count": 2,
   "id": "6d6d0dd9",
   "metadata": {},
   "outputs": [],
   "source": [
    "#type your code here..."
   ]
  },
  {
   "cell_type": "markdown",
   "id": "4ff5feeb",
   "metadata": {},
   "source": [
    "<div dir = \"rtl\" style=\"font-face:IranSansX;direction:rtl;line-height:250%;font-size:small;\">\n",
    "\t<font face=\"IranSansX\" size=3>\n",
    "یک crosstab برحسب Room و Warehouse رسم کنید.    </font>\n",
    "</div>"
   ]
  },
  {
   "cell_type": "code",
   "execution_count": 2,
   "id": "197f6379",
   "metadata": {},
   "outputs": [],
   "source": [
    "#type your code here..."
   ]
  },
  {
   "cell_type": "markdown",
   "id": "d495034e",
   "metadata": {},
   "source": [
    "<div dir = \"rtl\" style=\"font-face:IranSansX;direction:rtl;line-height:250%;font-size:small;\">\n",
    "\t<font face=\"IranSansX\" size=3>\n",
    "        یک crosstab برحسب Room و Elevator رسم کنید.\n",
    "    </font>\n",
    "</div>"
   ]
  },
  {
   "cell_type": "code",
   "execution_count": 2,
   "id": "7f945d8a",
   "metadata": {},
   "outputs": [],
   "source": [
    "#type your code here..."
   ]
  },
  {
   "cell_type": "markdown",
   "id": "5b9f32aa",
   "metadata": {},
   "source": [
    "<div dir = \"rtl\" style=\"font-face:IranSansX;direction:rtl;line-height:250%;font-size:small;\">\n",
    "\t<font face=\"IranSansX\" size=3>\n",
    "        نشان دهید خانه‌هایی که 0 اتاق، 1 اتاق،....، 5اتاق دارند، به طور میانگین چه قیمتی دارند.\n",
    "    </font>\n",
    "</div>"
   ]
  },
  {
   "cell_type": "code",
   "execution_count": 2,
   "id": "b8ffa827",
   "metadata": {},
   "outputs": [],
   "source": [
    "#type your code here..."
   ]
  },
  {
   "cell_type": "markdown",
   "id": "6792d2e8",
   "metadata": {},
   "source": [
    "<div dir = \"rtl\" style=\"font-face:IranSansX;direction:rtl;line-height:250%;font-size:small;\">\n",
    "\t<font face=\"IranSansX\" size=3>\n",
    "دیتافریم را برحسب Room و Parking گروه‌بندی کرده و میانگین قیمت هرکدام را حساب کنید.(ترجیحاً با استفاده از Aggregate کردن این کار را انجام دهید.)\n",
    "    </font>\n",
    "</div>"
   ]
  },
  {
   "cell_type": "code",
   "execution_count": 2,
   "id": "8d7fd27f",
   "metadata": {},
   "outputs": [],
   "source": [
    "#type your code here..."
   ]
  },
  {
   "cell_type": "markdown",
   "id": "67a8e6d8",
   "metadata": {},
   "source": [
    "<div dir = \"rtl\" style=\"font-face:IranSansX;direction:rtl;line-height:250%;font-size:small;\">\n",
    "\t<font face=\"IranSansX\" size=3>\n",
    "یک ستون جدید به نام Score به دیتافریم اصلی اضافه کنید، به طوری که مقدار آن برای هرسطر برابر است با جمع مقادیر ستون‌های Parking و Warehouse و Elevator (البته با فرض این که مقادیر ستون‌ها را در مراحل قبل از True/False به 0و1 تغییر داده‌اید.)\n",
    "    </font>\n",
    "</div>"
   ]
  },
  {
   "cell_type": "code",
   "execution_count": 2,
   "id": "cea151a6",
   "metadata": {},
   "outputs": [],
   "source": [
    "#type your code here..."
   ]
  },
  {
   "cell_type": "markdown",
   "id": "92fa1005",
   "metadata": {},
   "source": [
    "<div dir = \"rtl\" style=\"font-face:IranSansX;direction:rtl;line-height:250%;font-size:small;\">\n",
    "\t<font face=\"IranSansX\" size=3>\n",
    "        محاسبه کنید که چند درصد خانه‌هایی که مساحت کمتر از 100مترمربع دارند، دارای پارکینگ هستند؟\n",
    "    </font>\n",
    "</div>"
   ]
  },
  {
   "cell_type": "code",
   "execution_count": 2,
   "id": "bd75b487",
   "metadata": {},
   "outputs": [],
   "source": [
    "#type your code here..."
   ]
  },
  {
   "cell_type": "markdown",
   "id": "d5edbf7e",
   "metadata": {},
   "source": [
    "<div dir = \"rtl\" style=\"font-face:IranSansX;direction:rtl;line-height:250%;font-size:small;\">\n",
    "\t<font face=\"IranSansX\" size=3>\n",
    "        محاسبه کنید که چند درصد از خانه‌های این دیتافریم حداقل یکی از سه ویژگی پارکینگ، انباری یا آسانسور را دارند؟\n",
    "    </font>\n",
    "</div>"
   ]
  },
  {
   "cell_type": "code",
   "execution_count": 2,
   "id": "e03eb44f",
   "metadata": {},
   "outputs": [],
   "source": [
    "#type your code here..."
   ]
  },
  {
   "cell_type": "markdown",
   "id": "64324e13",
   "metadata": {},
   "source": [
    "<div dir = \"rtl\" style=\"font-face:IranSansX;direction:rtl;line-height:250%;font-size:small;\">\n",
    "\t<font face=\"IranSansX\" size=3>\n",
    "خانه‌هایی از دیتافریم که تعداد اتاق‌های آن‌ها از 2 بیشتر است و حداقل یکی از سه ویژگی پارکینگ، انباری یا آسانسور را دارند، در قالب یک دیتافریم خروجی بدهید.    </font>\n",
    "</div>"
   ]
  },
  {
   "cell_type": "code",
   "execution_count": 2,
   "id": "da3e92fa",
   "metadata": {},
   "outputs": [],
   "source": [
    "#type your code here..."
   ]
  },
  {
   "cell_type": "markdown",
   "id": "4b15378a",
   "metadata": {},
   "source": [
    "<div dir = \"rtl\" style=\"font-face:IranSansX;direction:rtl;line-height:250%;font-size:small;\">\n",
    "\t<font face=\"IranSansX\" size=3>\n",
    "        خانه‌هایی که حداقل 2 و حداکثر 4 اتاق دارند و دارای پارکینگ هستند را در قالب یک دیتافریم خروجی دهید.\n",
    "    </font>\n",
    "</div>"
   ]
  },
  {
   "cell_type": "code",
   "execution_count": 2,
   "id": "dac0d7df",
   "metadata": {},
   "outputs": [],
   "source": [
    "#type your code here..."
   ]
  },
  {
   "cell_type": "markdown",
   "id": "19086da2",
   "metadata": {},
   "source": [
    "<div dir = \"rtl\" style=\"font-face:IranSansX;direction:rtl;line-height:250%;font-size:small;\">\n",
    "\t<font face=\"IranSansX\" size=3>\n",
    "یک ستون به دیتافریم اضافه کنید و در آن حاصل تقسیم Price بر Area را ذخیره کنید، سپس دیتافریم را برحسب این ستون sort کنید. حال بررسی کنید که 50 خانه‌ی اول این دیتافریم sort شده مربوط به کدام Addressهای متمایز هستند. این Addressها را در قالب یک لیست خروجی دهید.\n",
    "    </font>\n",
    "</div>"
   ]
  },
  {
   "cell_type": "code",
   "execution_count": 2,
   "id": "792a8cea",
   "metadata": {},
   "outputs": [],
   "source": [
    "#type your code here..."
   ]
  },
  {
   "cell_type": "markdown",
   "id": "b384eeaf",
   "metadata": {},
   "source": [
    "<div dir = \"rtl\" style=\"font-face:IranSansX;direction:rtl;line-height:250%;font-size:small;\">\n",
    "\t<font face=\"IranSansX\" size=3>\n",
    "        <b>\n",
    "        <font color=#0007cf size=5>فاز دوم پروژه: </font>\n",
    "        <font color=#0007cf size=5>\n",
    "Data Visualization\n",
    "            </font>\n",
    "        </b>\n",
    "        <hr/>\n",
    "        <hr/>\n",
    "    </font>\n",
    "</div>"
   ]
  },
  {
   "cell_type": "markdown",
   "id": "8d644d52",
   "metadata": {},
   "source": [
    "<div dir = \"rtl\" style=\"font-face:IranSansX;direction:rtl;line-height:250%;font-size:small;\">\n",
    "\t<font face=\"IranSansX\" size=3>\n",
    "        نمودار پراکندگی Price برحسب Area را رسم کنید.(نام هر محور را با label مشخص کنید.)\n",
    "    </font>\n",
    "</div>"
   ]
  },
  {
   "cell_type": "code",
   "execution_count": 2,
   "id": "6127b4b8",
   "metadata": {},
   "outputs": [],
   "source": [
    "#type your code here..."
   ]
  },
  {
   "cell_type": "markdown",
   "id": "38a06382",
   "metadata": {},
   "source": [
    "<div dir = \"rtl\" style=\"font-face:IranSansX;direction:rtl;line-height:250%;font-size:small;\">\n",
    "\t<font face=\"IranSansX\" size=3>\n",
    "نمودار قبلی را با رنگی غیر از رنگ default رسم کنید.    </font>\n",
    "</div>"
   ]
  },
  {
   "cell_type": "code",
   "execution_count": 2,
   "id": "a7a27796",
   "metadata": {},
   "outputs": [],
   "source": [
    "#type your code here..."
   ]
  },
  {
   "cell_type": "markdown",
   "id": "4bfa3481",
   "metadata": {},
   "source": [
    "<div dir = \"rtl\" style=\"font-face:IranSansX;direction:rtl;line-height:250%;font-size:small;\">\n",
    "\t<font face=\"IranSansX\" size=3>\n",
    "        نمودار قبلی را طوری رسم کنید که نقاط با کارکتر ستاره (*) نشان داده شوند.\n",
    "    </font>\n",
    "</div>"
   ]
  },
  {
   "cell_type": "code",
   "execution_count": 2,
   "id": "5c500085",
   "metadata": {},
   "outputs": [],
   "source": [
    "#type your code here..."
   ]
  },
  {
   "cell_type": "markdown",
   "id": "0ee74d94",
   "metadata": {},
   "source": [
    "<div dir = \"rtl\" style=\"font-face:IranSansX;direction:rtl;line-height:250%;font-size:small;\">\n",
    "\t<font face=\"IranSansX\" size=3>\n",
    "نمودار پراکندگی Price برحسب Room را همانند نمودار قبلی با ویژگی‌های فوق به صورت یکجا رسم کنید.    </font>\n",
    "</div>"
   ]
  },
  {
   "cell_type": "code",
   "execution_count": 2,
   "id": "219f1080",
   "metadata": {},
   "outputs": [],
   "source": [
    "#type your code here..."
   ]
  },
  {
   "cell_type": "markdown",
   "id": "ba859f6a",
   "metadata": {},
   "source": [
    "<div dir = \"rtl\" style=\"font-face:IranSansX;direction:rtl;line-height:250%;font-size:small;\">\n",
    "\t<font face=\"IranSansX\" size=3>\n",
    "        نمودار پراکندگی Price را برحسب ستون Score که خودمان در قسمت‌های قبل ایجاد کردیم رسم کنید.\n",
    "    </font>\n",
    "</div>"
   ]
  },
  {
   "cell_type": "code",
   "execution_count": 2,
   "id": "ffdb442b",
   "metadata": {},
   "outputs": [],
   "source": [
    "#type your code here..."
   ]
  },
  {
   "cell_type": "markdown",
   "id": "7adf68ac",
   "metadata": {},
   "source": [
    "<div dir = \"rtl\" style=\"font-face:IranSansX;direction:rtl;line-height:250%;font-size:small;\">\n",
    "\t<font face=\"IranSansX\" size=3>\n",
    "        نمودار توزیع فراوانی را برای ستون Price رسم کنید. بازه‌ی تغییرات قیمت را به 30 قسمت تقسیم کرده و در نمودار نشان دهید.\n",
    "    </font>\n",
    "</div>"
   ]
  },
  {
   "cell_type": "code",
   "execution_count": 2,
   "id": "cec48558",
   "metadata": {},
   "outputs": [],
   "source": [
    "#type your code here..."
   ]
  },
  {
   "cell_type": "markdown",
   "id": "5cafcdc2",
   "metadata": {},
   "source": [
    "<div dir = \"rtl\" style=\"font-face:IranSansX;direction:rtl;line-height:250%;font-size:small;\">\n",
    "\t<font face=\"IranSansX\" size=3>\n",
    "برای نمودار قسمت قبل، نمودار تخمین چگالی توزیع هم‌زمان (KDE) را رسم کنید.(این نمودار یک تخمین صاف و پیوسته از توزیع احتمال داده‌ها را نشان می‌دهد.)    </font>\n",
    "</div>"
   ]
  },
  {
   "cell_type": "code",
   "execution_count": 2,
   "id": "e5d9ea8e",
   "metadata": {},
   "outputs": [],
   "source": [
    "#type your code here..."
   ]
  },
  {
   "cell_type": "markdown",
   "id": "f7b17987",
   "metadata": {},
   "source": [
    "<div dir = \"rtl\" style=\"font-face:IranSansX;direction:rtl;line-height:250%;font-size:small;\">\n",
    "\t<font face=\"IranSansX\" size=3>\n",
    "        توضیح دهید که کاربرد نمودار توزیع فراوانی چیست؟\n",
    "    </font>\n",
    "</div>"
   ]
  },
  {
   "cell_type": "markdown",
   "id": "27441f0e",
   "metadata": {},
   "source": [
    "<div dir = \"rtl\" style=\"font-face:IranSansX;direction:rtl;font-size:small;\">\n",
    "\t<font face=\"IranSansX\" size=2 color=#0007cf>\n",
    "متن پاسخ خود را اینجا paste کنید.\n",
    "    </font>\n",
    "</div>"
   ]
  },
  {
   "cell_type": "markdown",
   "id": "8c3fb82f",
   "metadata": {},
   "source": [
    "<div dir = \"rtl\" style=\"font-face:IranSansX;direction:rtl;line-height:250%;font-size:small;\">\n",
    "\t<font face=\"IranSansX\" size=3>\n",
    "با استفاده از نمودار Pairplot برای هر دو جفت ستون موجود در دیتافریم یک نمودار پراکندگی به همراه KDE رسم کنید.\n",
    "    </font>\n",
    "</div>"
   ]
  },
  {
   "cell_type": "code",
   "execution_count": 2,
   "id": "31b3f2b0",
   "metadata": {},
   "outputs": [],
   "source": [
    "#type your code here..."
   ]
  },
  {
   "cell_type": "markdown",
   "id": "84cdca67",
   "metadata": {},
   "source": [
    "<div dir = \"rtl\" style=\"font-face:IranSansX;direction:rtl;line-height:250%;font-size:small;\">\n",
    "\t<font face=\"IranSansX\" size=3>\n",
    "ابتدا ماتریس همبستگی (Correlation Matrix) دیتافریم را با استفاده از توابع آماده بسازید و ذخیره کنید، سپس نمودار Heatmap را بر اساس این ماتریس رسم کنید.\n",
    "    </font>\n",
    "</div>"
   ]
  },
  {
   "cell_type": "code",
   "execution_count": 2,
   "id": "a94658c3",
   "metadata": {},
   "outputs": [],
   "source": [
    "#type your code here..."
   ]
  },
  {
   "cell_type": "markdown",
   "id": "67cff079",
   "metadata": {},
   "source": [
    "<div dir = \"rtl\" style=\"font-face:IranSansX;direction:rtl;line-height:250%;font-size:small;\">\n",
    "\t<font face=\"IranSansX\" size=3>\n",
    "        نمودار Heatmap را به گونه‌ای رسم کنید که مقدار ماتریس همبستگی در هر خانه از نمودار نشان داده شود و از پالت رنگی RdYlGn برای رسم نمودار استفاده شود.\n",
    "    </font>\n",
    "</div>"
   ]
  },
  {
   "cell_type": "code",
   "execution_count": 2,
   "id": "dd7c86bd",
   "metadata": {},
   "outputs": [],
   "source": [
    "#type your code here..."
   ]
  },
  {
   "cell_type": "markdown",
   "id": "143865b0",
   "metadata": {},
   "source": [
    "<div dir = \"rtl\" style=\"font-face:IranSansX;direction:rtl;line-height:250%;font-size:small;\">\n",
    "\t<font face=\"IranSansX\" size=3>\n",
    "توضیح دهید که کاربرد Heatmap چیست؟\n",
    "    </font>\n",
    "</div>"
   ]
  },
  {
   "cell_type": "markdown",
   "id": "81fbb688",
   "metadata": {},
   "source": [
    "<div dir = \"rtl\" style=\"font-face:IranSansX;direction:rtl;font-size:small;\">\n",
    "\t<font face=\"IranSansX\" size=2 color=#0007cf>\n",
    "متن پاسخ خود را اینجا paste کنید.\n",
    "    </font>\n",
    "</div>"
   ]
  },
  {
   "cell_type": "markdown",
   "id": "8c12238e",
   "metadata": {},
   "source": [
    "<div dir = \"rtl\" style=\"font-face:IranSansX;direction:rtl;line-height:250%;font-size:small;\">\n",
    "\t<font face=\"IranSansX\" size=3>\n",
    "        برای ستون Parking نمودار Pie Chart را به گونه‌ای رسم کنید که هر بخش نمودار یک رنگ دلخواه از طیف سبز داشته باشد و بخشی که فراوانی کمتری دارد از نمودار explode شود و هر بخش نمودار یک label داشته باشد.\n",
    "    </font>\n",
    "</div>"
   ]
  },
  {
   "cell_type": "code",
   "execution_count": 4,
   "id": "519cac96",
   "metadata": {},
   "outputs": [],
   "source": [
    "#type your code here..."
   ]
  },
  {
   "cell_type": "markdown",
   "id": "ec218f6f",
   "metadata": {},
   "source": [
    "<div dir = \"rtl\" style=\"font-face:IranSansX;direction:rtl;line-height:250%;font-size:small;\">\n",
    "\t<font face=\"IranSansX\" size=3>\n",
    "توضیح دهید که کاربرد Piechart چیست؟\n",
    "    </font>\n",
    "</div>"
   ]
  },
  {
   "cell_type": "markdown",
   "id": "a7913b31",
   "metadata": {},
   "source": [
    "<div dir = \"rtl\" style=\"font-face:IranSansX;direction:rtl;font-size:small;\">\n",
    "\t<font face=\"IranSansX\" size=2 color=#0007cf>\n",
    "متن پاسخ خود را اینجا paste کنید.\n",
    "    </font>\n",
    "</div>"
   ]
  },
  {
   "cell_type": "markdown",
   "id": "d8b1d8fd",
   "metadata": {},
   "source": [
    "<div dir = \"rtl\" style=\"font-face:IranSansX;direction:rtl;line-height:250%;font-size:small;\">\n",
    "\t<font face=\"IranSansX\" size=3>\n",
    "        یک نمودار سه قسمتی از نوع Pie Chart رسم کنید. هربخش از این نمودار نشان دهنده توزیع یکی از سه متغیر Warehouse , Parking , Elevator است. نمودار را به گونه‌ای رسم کنید که طیف رنگی هر متغیر با دیگری فرق کند و هر بخش نمودار دارای label مناسب باشد و بخشی که فراوانی کمتری دارد از نمودار explode شود.\n",
    "    </font>\n",
    "</div>"
   ]
  },
  {
   "cell_type": "code",
   "execution_count": null,
   "id": "d384469e",
   "metadata": {},
   "outputs": [],
   "source": [
    "#type your code here..."
   ]
  },
  {
   "cell_type": "markdown",
   "id": "85d7273a",
   "metadata": {},
   "source": [
    "<div dir = \"rtl\" style=\"font-face:IranSansX;direction:rtl;line-height:250%;font-size:small;\">\n",
    "\t<font face=\"IranSansX\" size=3>\n",
    "نمودار جعبه‌ای را برای ستون Price به گونه‌ای رسم کنید که رنگ آن قرمز باشد و نمودار دارای title و xlabel باشد. \n",
    "    </font>\n",
    "</div>"
   ]
  },
  {
   "cell_type": "code",
   "execution_count": 2,
   "id": "63ce29a2",
   "metadata": {},
   "outputs": [],
   "source": [
    "#type your code here..."
   ]
  },
  {
   "cell_type": "markdown",
   "id": "836d1bab",
   "metadata": {},
   "source": [
    "<div dir = \"rtl\" style=\"font-face:IranSansX;direction:rtl;line-height:250%;font-size:small;\">\n",
    "\t<font face=\"IranSansX\" size=3>\n",
    "نمودار قبلی را به گونه‌ای رسم کنید که قطر خطوط و اندازه فونت نوشته‌های نمودار را به میزان دلخواه زیاد کنید.    </font>\n",
    "</div>"
   ]
  },
  {
   "cell_type": "code",
   "execution_count": 2,
   "id": "915ba51b",
   "metadata": {},
   "outputs": [],
   "source": [
    "#type your code here..."
   ]
  },
  {
   "cell_type": "markdown",
   "id": "4f3edecd",
   "metadata": {},
   "source": [
    "<div dir = \"rtl\" style=\"font-face:IranSansX;direction:rtl;line-height:250%;font-size:small;\">\n",
    "\t<font face=\"IranSansX\" size=3>\n",
    "        نمودار histogram را برای ستون Room رسم کنید و برای آن label و title و رنگ مناسب مشخص کنید.\n",
    "    </font>\n",
    "</div>"
   ]
  },
  {
   "cell_type": "code",
   "execution_count": 2,
   "id": "35789ea7",
   "metadata": {},
   "outputs": [],
   "source": [
    "#type your code here..."
   ]
  },
  {
   "cell_type": "markdown",
   "id": "3cdb318f",
   "metadata": {},
   "source": [
    "<div dir = \"rtl\" style=\"font-face:IranSansX;direction:rtl;line-height:250%;font-size:small;\">\n",
    "\t<font face=\"IranSansX\" size=3>\n",
    "        یک نمودار سه قسمتی از نوع histogram رسم کنید. هر بخش از این نمودار نشان دهنده‌ی توزیع یکی از سه متغیر Elevator , Parking , Warehouse است.  نمودار را به گونه‌ای رسم کنید که طیف رنگی هر متغیر با دیگری فرق کند و هر بخش نمودار دارای label مناسب باشد.\n",
    "    </font>\n",
    "</div>"
   ]
  },
  {
   "cell_type": "code",
   "execution_count": 2,
   "id": "495126c1",
   "metadata": {},
   "outputs": [],
   "source": [
    "#type your code here..."
   ]
  },
  {
   "cell_type": "markdown",
   "id": "a46911ef",
   "metadata": {},
   "source": [
    "<div dir = \"rtl\" style=\"font-face:IranSansX;direction:rtl;line-height:250%;font-size:small;\">\n",
    "\t<font face=\"IranSansX\" size=3>\n",
    "        ابتدا دامنه تغییرات ستون Price را محاسبه کنید و آن را به 4 بازه مساوی با نام‌های cheap , AveUnderMean , AveUpperMean , Expensive تقسیم کنید. به هر بازه تعداد خانه‌هایی که قیمتشان در این بازه قرار دارد را نسبت دهید و در آخر نمودار countplot را برای این بازه‌ها رسم کنید.\n",
    "    </font>\n",
    "</div>"
   ]
  },
  {
   "cell_type": "code",
   "execution_count": 2,
   "id": "8f46f30a",
   "metadata": {},
   "outputs": [],
   "source": [
    "#type your code here..."
   ]
  },
  {
   "cell_type": "markdown",
   "id": "e6aaaa76",
   "metadata": {},
   "source": [
    "<div dir = \"rtl\" style=\"font-face:IranSansX;direction:rtl;line-height:250%;font-size:small;\">\n",
    "\t<font face=\"IranSansX\" size=3>\n",
    "        ابتدا 2 درصد از داده‌های ستون Price را به صورت تصادفی انتخاب کنید و سپس نمودار خط‌ شکسته را برای این داده‌ها رسم کنید.(محورها دارای label باشند و رنگ نمودار قرمز باشد.)\n",
    "    </font>\n",
    "</div>"
   ]
  },
  {
   "cell_type": "code",
   "execution_count": 2,
   "id": "8b1eece4",
   "metadata": {},
   "outputs": [],
   "source": [
    "#type your code here..."
   ]
  },
  {
   "cell_type": "markdown",
   "id": "2b57eb75",
   "metadata": {},
   "source": [
    "<div dir = \"rtl\" style=\"font-face:IranSansX;direction:rtl;line-height:250%;font-size:small;\">\n",
    "\t<font face=\"IranSansX\" size=3>\n",
    "        همانطور که میبینید نمودار قبلی ظاهر خوبی ندارد و شرط تابع بودن را نقض کرده است، داده‌های تصادفی مرحله قبل را به گونه‌ای sort کنید نمودار ما تبدیل به یک تابعی شود که اکیدا یکنوا نیست و نوسان دارد.\n",
    "    </font>\n",
    "</div>"
   ]
  },
  {
   "cell_type": "code",
   "execution_count": 2,
   "id": "c122e57a",
   "metadata": {},
   "outputs": [],
   "source": [
    "#type your code here..."
   ]
  },
  {
   "cell_type": "markdown",
   "id": "5c9c99f2",
   "metadata": {},
   "source": [
    "<div dir = \"rtl\" style=\"font-face:IranSansX;direction:rtl;line-height:250%;font-size:small;\">\n",
    "\t<font face=\"IranSansX\" size=3>\n",
    "        نمودار قسمت قبل را به گونه‌ای رسم کنید که نقاط شکستگی نمودار با یک دایره با رنگ آبی نشان داده شوند.\n",
    "    </font>\n",
    "</div>"
   ]
  },
  {
   "cell_type": "code",
   "execution_count": 2,
   "id": "789e7eb3",
   "metadata": {},
   "outputs": [],
   "source": [
    "#type your code here..."
   ]
  },
  {
   "cell_type": "markdown",
   "id": "b2367dae",
   "metadata": {},
   "source": [
    "<div dir = \"rtl\" style=\"font-face:IranSansX;direction:rtl;line-height:250%;font-size:small;\">\n",
    "\t<font face=\"IranSansX\" size=3>\n",
    "        نمودار خط شکسته‌ی Price(USD) برحسب Area را رسم کنید.\n",
    "    </font>\n",
    "</div>"
   ]
  },
  {
   "cell_type": "code",
   "execution_count": 2,
   "id": "b6e0d969",
   "metadata": {},
   "outputs": [],
   "source": [
    "#type your code here..."
   ]
  },
  {
   "cell_type": "markdown",
   "id": "fe586714",
   "metadata": {},
   "source": [
    "<div dir = \"rtl\" style=\"font-face:IranSansX;direction:rtl;line-height:250%;font-size:small;\">\n",
    "\t<font face=\"IranSansX\" size=3>\n",
    "        به نمودار رسم شده در قسمت قبل، نمودار روند تغییرات مرتبه اول(خطی) را اضافه کنید.(برای پیدا کردن ضرایب رگرسیون می‌توانید از تابع polyfit در کتابخانه numpy استفاده کنید.)\n",
    "    </font>\n",
    "</div>"
   ]
  },
  {
   "cell_type": "code",
   "execution_count": 2,
   "id": "6db62d3d",
   "metadata": {},
   "outputs": [],
   "source": [
    "#type your code here..."
   ]
  },
  {
   "cell_type": "markdown",
   "id": "58f469b1",
   "metadata": {},
   "source": [
    "<div dir = \"rtl\" style=\"font-face:IranSansX;direction:rtl;line-height:250%;font-size:small;\">\n",
    "\t<font face=\"IranSansX\" size=3>\n",
    "        نمودار روند تغییرات خطی که در قسمت قبل رسم کردیم را به صورت خط‌چین با رنگ قرمز رسم کنید.\n",
    "    </font>\n",
    "</div>"
   ]
  },
  {
   "cell_type": "code",
   "execution_count": 2,
   "id": "f17293d5",
   "metadata": {},
   "outputs": [],
   "source": [
    "#type your code here..."
   ]
  },
  {
   "cell_type": "markdown",
   "id": "826d4944",
   "metadata": {},
   "source": [
    "<div dir = \"rtl\" style=\"font-face:IranSansX;direction:rtl;line-height:250%;font-size:small;\">\n",
    "\t<font face=\"IranSansX\" size=3>\n",
    "        نمودار Barplot را برای ستون Price برحسب ستون Room رسم کنید.(نمودار باید دارای title و label مناسب باشد.)\n",
    "    </font>\n",
    "</div>"
   ]
  },
  {
   "cell_type": "code",
   "execution_count": 2,
   "id": "5778cd6c",
   "metadata": {},
   "outputs": [],
   "source": [
    "#type your code here..."
   ]
  },
  {
   "cell_type": "markdown",
   "id": "7fa0491f",
   "metadata": {},
   "source": [
    "<div dir = \"rtl\" style=\"font-face:IranSansX;direction:rtl;line-height:250%;font-size:small;\">\n",
    "\t<font face=\"IranSansX\" size=3>\n",
    "        توضیح دهید که کاربرد Barplot چیست؟\n",
    "    </font>\n",
    "</div>"
   ]
  },
  {
   "cell_type": "code",
   "execution_count": 2,
   "id": "61266c8c",
   "metadata": {},
   "outputs": [],
   "source": [
    "#type your code here..."
   ]
  }
 ],
 "metadata": {
  "kernelspec": {
   "display_name": "Python 3 (ipykernel)",
   "language": "python",
   "name": "python3"
  },
  "language_info": {
   "codemirror_mode": {
    "name": "ipython",
    "version": 3
   },
   "file_extension": ".py",
   "mimetype": "text/x-python",
   "name": "python",
   "nbconvert_exporter": "python",
   "pygments_lexer": "ipython3",
   "version": "3.11.4"
  }
 },
 "nbformat": 4,
 "nbformat_minor": 5
}
